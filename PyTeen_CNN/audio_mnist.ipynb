{
  "cells": [
    {
      "cell_type": "code",
      "execution_count": 579,
      "metadata": {
        "id": "b4QLcG1dCqN8"
      },
      "outputs": [],
      "source": [
        "import torch\n",
        "from torch import nn,optim\n",
        "from torchvision import datasets,transforms\n",
        "from torch.utils.data import dataloader, random_split\n",
        "from tqdm import tqdm\n"
      ]
    },
    {
      "cell_type": "code",
      "execution_count": 580,
      "metadata": {},
      "outputs": [],
      "source": [
        "# torch.manual_seed(137)"
      ]
    },
    {
      "cell_type": "code",
      "execution_count": 581,
      "metadata": {
        "id": "isBOSu29EqUs"
      },
      "outputs": [],
      "source": [
        "tf = transforms.Compose(\n",
        "    [transforms.Grayscale(num_output_channels=1), transforms.ToTensor()]\n",
        ")\n",
        "# tf = transforms.ToTensor()\n"
      ]
    },
    {
      "cell_type": "code",
      "execution_count": 582,
      "metadata": {
        "colab": {
          "base_uri": "https://localhost:8080/"
        },
        "id": "ITpWiSdDDkBP",
        "outputId": "6bef4d3b-e810-47c5-a9fa-4534a930e852"
      },
      "outputs": [],
      "source": [
        "training_set = datasets.ImageFolder(\n",
        "    root=\"data/images/512-2048-40/combined/train\", transform=tf\n",
        ")\n",
        "testing_set = datasets.ImageFolder(\n",
        "    root=\"data/images/512-2048-40/combined/test\", transform=tf\n",
        ")"
      ]
    },
    {
      "cell_type": "code",
      "execution_count": 583,
      "metadata": {
        "id": "YnVcX2NypHDb"
      },
      "outputs": [],
      "source": [
        "DEVICE = torch.device('cuda' if torch.cuda.is_available() else 'cpu')\n",
        "BATCH_SIZE = 16\n"
      ]
    },
    {
      "cell_type": "code",
      "execution_count": 584,
      "metadata": {
        "id": "deOjWb6rFAly"
      },
      "outputs": [],
      "source": [
        "class PyTeen(nn.Module):\n",
        "    def __init__(self):\n",
        "        super().__init__()\n",
        "        self.layers = nn.Sequential(\n",
        "            nn.Conv2d(1, 8, 5, padding=2),\n",
        "            nn.ReLU(),\n",
        "            nn.MaxPool2d(2, stride=2),\n",
        "            nn.Conv2d(8, 16, 5),\n",
        "            nn.ReLU(),\n",
        "            nn.MaxPool2d(2, stride=2),\n",
        "            nn.Flatten(),\n",
        "            nn.Linear(1152, 120),\n",
        "            nn.ReLU(),\n",
        "            nn.Linear(120, 84),\n",
        "            nn.ReLU(),\n",
        "            nn.Linear(84, 10),\n",
        "        )\n",
        "        self.loss = nn.CrossEntropyLoss()\n",
        "        self.optimizer = optim.Adam(self.parameters())\n",
        "\n",
        "    # self.to(torch.device(DEVICE)) #gpu\n",
        "\n",
        "    def forward(self, input):\n",
        "        return self.layers(input)\n",
        "\n",
        "    def predict(self, input):\n",
        "        with torch.no_grad():\n",
        "            pred = self.forward(input)\n",
        "            return torch.argmax(pred, axis=-1)\n",
        "\n",
        "    def train(self, input, label):\n",
        "        self.optimizer.zero_grad()\n",
        "        pred = self.forward(input)\n",
        "        loss = self.loss(pred, label)\n",
        "        loss.backward()\n",
        "        self.optimizer.step()\n",
        "        return loss"
      ]
    },
    {
      "cell_type": "code",
      "execution_count": 585,
      "metadata": {
        "id": "6DZR2dWppmSQ"
      },
      "outputs": [],
      "source": [
        "training_loader = dataloader.DataLoader(\n",
        "    training_set, batch_size=BATCH_SIZE, shuffle=True\n",
        ")\n",
        "testing_loader = dataloader.DataLoader(\n",
        "    testing_set, batch_size=BATCH_SIZE, shuffle=False\n",
        ")\n"
      ]
    },
    {
      "cell_type": "code",
      "execution_count": 586,
      "metadata": {
        "colab": {
          "base_uri": "https://localhost:8080/"
        },
        "id": "Q_QC2YjGqYMP",
        "outputId": "94c29cfb-046c-48ea-bb8e-1fefb6257c69"
      },
      "outputs": [
        {
          "data": {
            "text/plain": [
              "PyTeen(\n",
              "  (layers): Sequential(\n",
              "    (0): Conv2d(1, 8, kernel_size=(5, 5), stride=(1, 1), padding=(2, 2))\n",
              "    (1): ReLU()\n",
              "    (2): MaxPool2d(kernel_size=2, stride=2, padding=0, dilation=1, ceil_mode=False)\n",
              "    (3): Conv2d(8, 16, kernel_size=(5, 5), stride=(1, 1))\n",
              "    (4): ReLU()\n",
              "    (5): MaxPool2d(kernel_size=2, stride=2, padding=0, dilation=1, ceil_mode=False)\n",
              "    (6): Flatten(start_dim=1, end_dim=-1)\n",
              "    (7): Linear(in_features=1152, out_features=120, bias=True)\n",
              "    (8): ReLU()\n",
              "    (9): Linear(in_features=120, out_features=84, bias=True)\n",
              "    (10): ReLU()\n",
              "    (11): Linear(in_features=84, out_features=10, bias=True)\n",
              "  )\n",
              "  (loss): CrossEntropyLoss()\n",
              ")"
            ]
          },
          "execution_count": 586,
          "metadata": {},
          "output_type": "execute_result"
        }
      ],
      "source": [
        "network = PyTeen()\n",
        "network.to(torch.device(DEVICE))\n"
      ]
    },
    {
      "cell_type": "code",
      "execution_count": 587,
      "metadata": {
        "colab": {
          "base_uri": "https://localhost:8080/",
          "height": 408
        },
        "id": "ZLgNUND-H4RK",
        "outputId": "197d326b-d358-437f-8292-145f5ce7454e"
      },
      "outputs": [
        {
          "name": "stderr",
          "output_type": "stream",
          "text": [
            "100%|██████████| 3781/3781 [00:41<00:00, 90.62it/s]\n"
          ]
        },
        {
          "name": "stdout",
          "output_type": "stream",
          "text": [
            "EPOCH: 1 :  tensor(1718.1300, grad_fn=<AddBackward0>)\n"
          ]
        },
        {
          "name": "stderr",
          "output_type": "stream",
          "text": [
            "100%|██████████| 3781/3781 [00:40<00:00, 93.34it/s]\n"
          ]
        },
        {
          "name": "stdout",
          "output_type": "stream",
          "text": [
            "EPOCH: 2 :  tensor(468.3240, grad_fn=<AddBackward0>)\n"
          ]
        },
        {
          "name": "stderr",
          "output_type": "stream",
          "text": [
            "100%|██████████| 3781/3781 [00:39<00:00, 95.92it/s]\n"
          ]
        },
        {
          "name": "stdout",
          "output_type": "stream",
          "text": [
            "EPOCH: 3 :  tensor(319.9427, grad_fn=<AddBackward0>)\n"
          ]
        },
        {
          "name": "stderr",
          "output_type": "stream",
          "text": [
            "100%|██████████| 3781/3781 [00:39<00:00, 95.70it/s]\n"
          ]
        },
        {
          "name": "stdout",
          "output_type": "stream",
          "text": [
            "EPOCH: 4 :  tensor(247.5844, grad_fn=<AddBackward0>)\n"
          ]
        },
        {
          "name": "stderr",
          "output_type": "stream",
          "text": [
            "100%|██████████| 3781/3781 [00:39<00:00, 96.80it/s]"
          ]
        },
        {
          "name": "stdout",
          "output_type": "stream",
          "text": [
            "EPOCH: 5 :  tensor(204.1053, grad_fn=<AddBackward0>)\n"
          ]
        },
        {
          "name": "stderr",
          "output_type": "stream",
          "text": [
            "\n"
          ]
        }
      ],
      "source": [
        "# training loop\n",
        "# we need to make the tensors all .to(torch.device('cuda'))\n",
        "EPOCHS = 5\n",
        "\n",
        "for i in range(EPOCHS):\n",
        "  total_loss = 0\n",
        "  for input,label in tqdm(training_loader):\n",
        "      input = input.to(torch.device(DEVICE))\n",
        "      label = label.to(torch.device(DEVICE))\n",
        "\n",
        "      loss = network.train(input,label)\n",
        "      total_loss += loss\n",
        "  print(\"EPOCH:\",i+1,\": \",total_loss)\n"
      ]
    },
    {
      "cell_type": "code",
      "execution_count": 588,
      "metadata": {
        "id": "8hWG8JVTJyHU"
      },
      "outputs": [
        {
          "name": "stderr",
          "output_type": "stream",
          "text": [
            "100%|██████████| 586/586 [00:03<00:00, 179.41it/s]"
          ]
        },
        {
          "name": "stdout",
          "output_type": "stream",
          "text": [
            "96.18174061433447%\n"
          ]
        },
        {
          "name": "stderr",
          "output_type": "stream",
          "text": [
            "\n"
          ]
        }
      ],
      "source": [
        "# evaluation loop\n",
        "# we need to make the tensors all .to(torch.device('cuda'))\n",
        "num_corrects = 0\n",
        "for input,label in tqdm(testing_loader):\n",
        "  input = input.to(torch.device(DEVICE))\n",
        "  label = label.to(torch.device(DEVICE))\n",
        "  pred = network.predict(input)\n",
        "  for i in range(len(pred)):\n",
        "    if(pred[i] == label[i]):\n",
        "      num_corrects += 1\n",
        "print(f\"{num_corrects*100/(len(testing_loader)*BATCH_SIZE)}%\")\n"
      ]
    },
    {
      "cell_type": "code",
      "execution_count": 589,
      "metadata": {},
      "outputs": [],
      "source": [
        "torch.save(network.state_dict(), \"./audio_mnist.pth\")\n"
      ]
    }
  ],
  "metadata": {
    "accelerator": "GPU",
    "colab": {
      "gpuType": "T4",
      "provenance": []
    },
    "kernelspec": {
      "display_name": "Python 3",
      "name": "python3"
    },
    "language_info": {
      "codemirror_mode": {
        "name": "ipython",
        "version": 3
      },
      "file_extension": ".py",
      "mimetype": "text/x-python",
      "name": "python",
      "nbconvert_exporter": "python",
      "pygments_lexer": "ipython3",
      "version": "3.11.7"
    }
  },
  "nbformat": 4,
  "nbformat_minor": 0
}
